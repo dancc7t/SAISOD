{
  "cells": [
    {
      "cell_type": "markdown",
      "metadata": {
        "id": "Pju8P829lmcO"
      },
      "source": [
        "### GPU info ###"
      ]
    },
    {
      "cell_type": "code",
      "execution_count": null,
      "metadata": {
        "id": "A5fLSlNdlS8D"
      },
      "outputs": [],
      "source": [
        "gpu_info = !nvidia-smi\n",
        "gpu_info = '\\n'.join(gpu_info)\n",
        "if gpu_info.find('failed') >= 0:\n",
        "  print('Not connected to a GPU')\n",
        "else:\n",
        "  print(gpu_info)"
      ]
    },
    {
      "cell_type": "markdown",
      "metadata": {
        "id": "72n6joX_bdja"
      },
      "source": [
        "### Setup ###\n"
      ]
    },
    {
      "cell_type": "code",
      "execution_count": 1,
      "metadata": {
        "colab": {
          "base_uri": "https://localhost:8080/"
        },
        "id": "PdU07HsUbm7t",
        "outputId": "c7721cda-d652-4b82-aaac-9ea456cbf55e"
      },
      "outputs": [
        {
          "output_type": "stream",
          "name": "stdout",
          "text": [
            "Mounted at /content/gdrive\n"
          ]
        }
      ],
      "source": [
        "import os\n",
        "import sys\n",
        "from google.colab import drive, files\n",
        "from google.colab.patches import cv2_imshow\n",
        "\n",
        "SRC_PATH = '/content/gdrive/MyDrive/TFG/src'\n",
        "\n",
        "# mount Google Drive\n",
        "if not os.path.isdir('/content/gdrive'):\n",
        "  drive.mount('/content/gdrive')\n",
        "\n",
        "# add src to sys.path\n",
        "if SRC_PATH not in sys.path:\n",
        "  sys.path.append(SRC_PATH)\n",
        "\n",
        "# initialize the basic settings and import all the dependencies\n",
        "import common\n",
        "\n",
        "common.init()\n",
        "\n",
        "from SAISOD import *"
      ]
    },
    {
      "cell_type": "markdown",
      "metadata": {
        "id": "VcvHtPKKZq-U"
      },
      "source": [
        "#### Settings ####"
      ]
    },
    {
      "cell_type": "code",
      "execution_count": 2,
      "metadata": {
        "id": "gMgqY2O25MN9"
      },
      "outputs": [],
      "source": [
        "# Base detection (x1)\n",
        "dict_base = {\n",
        "    'initial_det': True,\n",
        "    'apply_sr': False,\n",
        "    'apply_flip': False,\n",
        "    'apply_lut': False,\n",
        "    'iou_threshold': 0.25,\n",
        "    'threshold_low': 0.3,\n",
        "    'det_size': 1024,\n",
        "    'det_model_name': 'efficientdet_d4_coco17_tpu-32',\n",
        "    'det_model_date': '20200711'\n",
        "}\n",
        "\n",
        "# Base detection (x1) and SR (x2)\n",
        "dict_sr_method = {\n",
        "    'initial_det': True,\n",
        "    'apply_sr': True,\n",
        "    'apply_flip': False,\n",
        "    'apply_lut': False,\n",
        "    'tiling_factor': 2,\n",
        "    'iou_threshold': 0.25,\n",
        "    'threshold_low': 0.3,\n",
        "    'det_size': 1024,\n",
        "    'det_model_name': 'efficientdet_d4_coco17_tpu-32',\n",
        "    'det_model_date': '20200711'\n",
        "}\n",
        "\n",
        "# Base detection (x1), SR (x2), LUT and FLIP\n",
        "dict_final_method = {\n",
        "    'initial_det': True,\n",
        "    'apply_sr': True,\n",
        "    'apply_flip': True,\n",
        "    'apply_lut': True,\n",
        "    'lut_threshold': 50,\n",
        "    'lut_method': 'clahe',\n",
        "    'tiling_factor': 2,\n",
        "    'iou_threshold': 0.25,\n",
        "    'threshold_low': 0.3,\n",
        "    'det_size': 1024,\n",
        "    'det_model_name': 'efficientdet_d4_coco17_tpu-32',\n",
        "    'det_model_date': '20200711'\n",
        "}\n",
        "\n",
        "#common.load_settings(dict_final_method)\n",
        "#common.print_settings()"
      ]
    },
    {
      "cell_type": "markdown",
      "source": [
        "### Detection model ###"
      ],
      "metadata": {
        "id": "qZEEidLZwkCO"
      }
    },
    {
      "cell_type": "code",
      "execution_count": null,
      "metadata": {
        "id": "fs70gKJkoibZ"
      },
      "outputs": [],
      "source": [
        "detect_fn = get_detection_function(common.DET_MODEL_NAME, common.DET_MODEL_DATE)"
      ]
    },
    {
      "cell_type": "markdown",
      "metadata": {
        "id": "svEjRrEaQ1dg"
      },
      "source": [
        "### Demo ###"
      ]
    },
    {
      "cell_type": "markdown",
      "source": [
        "##### declare demo images #####"
      ],
      "metadata": {
        "id": "gazCyD64becq"
      }
    },
    {
      "cell_type": "code",
      "source": [
        "# test images\n",
        "image_list = [\n",
        "    '9999993_00000_d_0000018.jpg'\n",
        "]\n",
        "\n",
        "# figure images\n",
        "\"\"\"\n",
        "image_list = [\n",
        "    '9999938_00000_d_0000179.jpg',\n",
        "    '0000321_00000_d_0000015.jpg',\n",
        "    '9999979_00000_d_0000045.jpg'\n",
        "]\n",
        "\"\"\"\n",
        "\n",
        "# demo images\n",
        "\"\"\"\n",
        "image_list = [\n",
        "  '0000006_00611_d_0000002.jpg',\n",
        "  '0000272_01500_d_0000004.jpg',\n",
        "  '9999938_00000_d_0000216.jpg',\n",
        "  '9999938_00000_d_0000376.jpg',\n",
        "  '9999979_00000_d_0000034.jpg',\n",
        "  '9999996_00000_d_0000025.jpg'\n",
        "]\n",
        "\"\"\"\n",
        "# demo images with low brightness\n",
        "dark_image_list = [\n",
        "    '9999952_00000_d_0000145.jpg',\n",
        "    '9999952_00000_d_0000143.jpg',\n",
        "    '9999952_00000_d_0000144.jpg'\n",
        "]"
      ],
      "metadata": {
        "id": "Bf0nJrImbcyS"
      },
      "execution_count": null,
      "outputs": []
    },
    {
      "cell_type": "markdown",
      "source": [
        "##### run demo tests #####"
      ],
      "metadata": {
        "id": "RLSXXRU0bmzT"
      }
    },
    {
      "cell_type": "code",
      "execution_count": 26,
      "metadata": {
        "id": "Ck9F6wbdQzAW"
      },
      "outputs": [],
      "source": [
        "\n",
        "base_det_dict = run_test(dict_base, detect_fn, image_list)\n",
        "sr_det_dict = run_test(dict_sr_method, detect_fn, image_list)\n",
        "prop_det_dict = run_test(dict_final_method, detect_fn, image_list)\n",
        "gt_dict = get_dict_from_gt('test_gt', image_list, common.CATEGORIES_WHITELIST)"
      ]
    },
    {
      "cell_type": "markdown",
      "source": [
        "##### show demo results #####"
      ],
      "metadata": {
        "id": "S9Zkdv4wbsYP"
      }
    },
    {
      "cell_type": "code",
      "source": [
        "from figurehelper import *\n",
        "\n",
        "image_id = 1\n",
        "image_file = image_list[image_id - 1]\n",
        "\n",
        "base_ann_list = get_annotations_by_image_id(image_id, base_det_dict)\n",
        "sr_ann_list = get_annotations_by_image_id(image_id, sr_det_dict)\n",
        "prop_ann_list = get_annotations_by_image_id(image_id, prop_det_dict)\n",
        "gt_ann_list = get_annotations_by_image_id(image_id, gt_dict)\n",
        "\n",
        "show_test_results(image_file, base_ann_list, gt_ann_list, False, True)"
      ],
      "metadata": {
        "id": "M1welhpnGdLy"
      },
      "execution_count": null,
      "outputs": []
    },
    {
      "cell_type": "markdown",
      "source": [
        "##### compare two method results on image #####"
      ],
      "metadata": {
        "id": "O2-9XWDynfM6"
      }
    },
    {
      "cell_type": "code",
      "source": [
        "%matplotlib inline\n",
        "\n",
        "compare_two_results(image_file, base_ann_list, prop_ann_list)"
      ],
      "metadata": {
        "id": "iZ2TfLcXz2ST"
      },
      "execution_count": null,
      "outputs": []
    },
    {
      "cell_type": "markdown",
      "metadata": {
        "id": "rESU4mqD0VGx"
      },
      "source": [
        "### Run and evaluate tests ###"
      ]
    },
    {
      "cell_type": "code",
      "execution_count": null,
      "metadata": {
        "id": "v7yN-CbVSwBY"
      },
      "outputs": [],
      "source": [
        "image_list = get_image_list_from_json_file(common.UTILS_DIR, 'vd_img_testset', 300)"
      ]
    },
    {
      "cell_type": "code",
      "execution_count": null,
      "metadata": {
        "id": "LAKKXdf1UnE1"
      },
      "outputs": [],
      "source": [
        "test_dict = run_test(dict_sr_method, detect_fn, image_list)"
      ]
    },
    {
      "cell_type": "code",
      "execution_count": null,
      "metadata": {
        "id": "y2owAzaUpLOj"
      },
      "outputs": [],
      "source": [
        "write_annotations_to_json(common.DETEVAL_DIR, 'test300_d4_0_2_sr_iou_025', test_dict)"
      ]
    },
    {
      "cell_type": "code",
      "execution_count": null,
      "metadata": {
        "id": "xCn_RqqmSt8Y"
      },
      "outputs": [],
      "source": [
        "evaluate_test('test300_d4_0_2_sr_iou_025.json', 'visdrone_gt.json')"
      ]
    },
    {
      "cell_type": "markdown",
      "metadata": {
        "id": "Yqw2o2Wnu4V9"
      },
      "source": [
        "### Detection model evaluation ###"
      ]
    },
    {
      "cell_type": "code",
      "execution_count": null,
      "metadata": {
        "id": "w68PVXLtca2U"
      },
      "outputs": [],
      "source": [
        "evaluate_det_model(MODEL_NAME, MODEL_DATE, 0.2, None, CATEGORIES_WHITELIST)"
      ]
    },
    {
      "cell_type": "markdown",
      "metadata": {
        "id": "otBEJ4HVvT6m"
      },
      "source": [
        "### Super-Resolution model evaluation ###"
      ]
    },
    {
      "cell_type": "code",
      "execution_count": null,
      "metadata": {
        "id": "FYpoZUN5ufCP"
      },
      "outputs": [],
      "source": [
        "original_list = get_all_files_by_ext(os.path.join(SREVAL_DIR, 'original'),'jpg')\n",
        "results = evaluate_sr_model(original_list, 'BSRGAN', 4)\n",
        "print(results)\n"
      ]
    },
    {
      "cell_type": "markdown",
      "metadata": {
        "id": "oRodLO0Mv88o"
      },
      "source": [
        "#### SR images from (EDSR, ESPCN, FSRCNN, LapSRN) ####"
      ]
    },
    {
      "cell_type": "code",
      "execution_count": null,
      "metadata": {
        "id": "IoDyKtCZJVHw"
      },
      "outputs": [],
      "source": [
        "lr_list = get_all_files_by_ext(os.path.join(SREVAL_DIR,'LR_x4'), 'jpg')\n",
        "print(lr_list)\n",
        "generate_sr_images(lr_list, 'FSRCNN', 2)"
      ]
    },
    {
      "cell_type": "markdown",
      "metadata": {
        "id": "DZKInXvOzXD1"
      },
      "source": [
        "##### DBPI #####"
      ]
    },
    {
      "cell_type": "code",
      "execution_count": null,
      "metadata": {
        "colab": {
          "base_uri": "https://localhost:8080/"
        },
        "id": "Y4boOitv9Lns",
        "outputId": "b501232f-2785-4afc-f858-2eefe76f40f3"
      },
      "outputs": [
        {
          "name": "stdout",
          "output_type": "stream",
          "text": [
            "/content\n",
            "Cloning into 'DBPI-BlindSR'...\n",
            "remote: Enumerating objects: 42, done.\u001b[K\n",
            "remote: Counting objects: 100% (42/42), done.\u001b[K\n",
            "remote: Compressing objects: 100% (39/39), done.\u001b[K\n",
            "remote: Total 42 (delta 15), reused 0 (delta 0), pack-reused 0\u001b[K\n",
            "Unpacking objects: 100% (42/42), done.\n"
          ]
        }
      ],
      "source": [
        "%cd /content\n",
        "\n",
        "!git clone https://github.com/prote376/DBPI-BlindSR.git"
      ]
    },
    {
      "cell_type": "code",
      "execution_count": null,
      "metadata": {
        "colab": {
          "base_uri": "https://localhost:8080/"
        },
        "id": "j3pO7VQx_3pq",
        "outputId": "678e7bfe-4e39-4197-f86d-ee819186eef7"
      },
      "outputs": [
        {
          "name": "stdout",
          "output_type": "stream",
          "text": [
            "/content/DBPI-BlindSR\n",
            "Scale Factor: X4\n",
            "************************************************************\n",
            "STARTED DBPI-BlindSR on: \"/content/gdrive/MyDrive/TFG/sreval/test/original.jpg\"...\n",
            "100%|███████████████████| 3000/3000 [00:34<00:00, 86.46it/s]\n",
            "FINISHED RUN (see --/content/gdrive/MyDrive/TFG/sreval/test/original-- folder)\n",
            "************************************************************\n",
            "\n",
            "\n"
          ]
        }
      ],
      "source": [
        "%cd /content/DBPI-BlindSR/\n",
        "\n",
        "#!python train.py -i /content/gdrive/MyDrive/TFG/sreval/LR_x2/ -o /content/gdrive/MyDrive/TFG/sreval/test/\n",
        "!python train.py -i /content/gdrive/MyDrive/TFG/sreval/test/ -o /content/gdrive/MyDrive/TFG/sreval/test/ --X4"
      ]
    },
    {
      "cell_type": "markdown",
      "metadata": {
        "id": "JcDjdBYz3cWC"
      },
      "source": [
        "#### FeMaSR ####"
      ]
    },
    {
      "cell_type": "code",
      "execution_count": null,
      "metadata": {
        "id": "-u9UpmgNY1cs"
      },
      "outputs": [],
      "source": [
        "# git clone this repository\n",
        "%cd /content\n",
        "!pip install einops\n",
        "!git clone https://github.com/chaofengc/FeMaSR.git\n",
        "%cd /content/FeMaSR\n",
        "\n",
        "# create new anaconda env\n",
        "!conda create -n femasr python=3.8\n",
        "!source activate femasr\n",
        "\n",
        "# install python dependencies\n",
        "!pip3 install -r requirements.txt\n",
        "!python setup.py develop"
      ]
    },
    {
      "cell_type": "code",
      "execution_count": null,
      "metadata": {
        "colab": {
          "base_uri": "https://localhost:8080/"
        },
        "id": "SeWiyl5duYed",
        "outputId": "111efaf6-69ae-4666-a2fb-4ea893fe663a"
      },
      "outputs": [
        {
          "name": "stdout",
          "output_type": "stream",
          "text": [
            "/content/FeMaSR\n",
            "Downloading: \"https://github.com/chaofengc/FeMaSR/releases/download/v0.1-pretrain_models/FeMaSR_SRX4_model_g.pth\" to /root/.cache/torch/hub/checkpoints/FeMaSR_SRX4_model_g.pth\n",
            "\n",
            "100% 159M/159M [00:01<00:00, 93.7MB/s]\n",
            "/usr/local/lib/python3.7/dist-packages/torch/functional.py:478: UserWarning: torch.meshgrid: in an upcoming release, it will be required to pass the indexing argument. (Triggered internally at  ../aten/src/ATen/native/TensorShape.cpp:2894.)\n",
            "  return _VF.meshgrid(tensors, **kwargs)  # type: ignore[attr-defined]\n",
            "Test 9999993_00000_d_0000018.jpg: 100% 12/12 [00:17<00:00,  1.46s/image]\n"
          ]
        }
      ],
      "source": [
        "%cd /content/FeMaSR\n",
        "\n",
        "!python inference_femasr.py -s 4 -i /content/gdrive/MyDrive/TFG/sreval/LR_x4 -o /content/gdrive/MyDrive/TFG/sreval/FeMaSR_x4"
      ]
    },
    {
      "cell_type": "markdown",
      "metadata": {
        "id": "bb-k20n4yIy4"
      },
      "source": [
        "#### Real-ESRGAN ####"
      ]
    },
    {
      "cell_type": "code",
      "execution_count": null,
      "metadata": {
        "id": "H-BQ3WR-0vPQ"
      },
      "outputs": [],
      "source": [
        "!python inference_realesrgan.py -n RealESRGAN_x2plus -i /content/gdrive/MyDrive/TFG/subimages/9999952_00000_d_0000024/ -o /content/gdrive/MyDrive/TFG/subimages/9999952_00000_d_0000024/ -s 2\n",
        "#!python inference_realesrgan.py -n RealESRGAN_x4plus -i /content/gdrive/MyDrive/TFG/sreval/test/ -o /content/gdrive/MyDrive/TFG/sreval/test/ -s 4"
      ]
    },
    {
      "cell_type": "markdown",
      "metadata": {
        "id": "Dzo5x8OaCNPf"
      },
      "source": [
        "#### BSRGAN ####"
      ]
    },
    {
      "cell_type": "code",
      "execution_count": null,
      "metadata": {
        "colab": {
          "base_uri": "https://localhost:8080/"
        },
        "id": "whJHbDar5JYQ",
        "outputId": "e3021dd2-20f6-4812-b185-a7d5f59b9f71"
      },
      "outputs": [
        {
          "name": "stdout",
          "output_type": "stream",
          "text": [
            "/content\n",
            "Cloning into 'BSRGAN'...\n",
            "remote: Enumerating objects: 541, done.\u001b[K\n",
            "remote: Counting objects: 100% (155/155), done.\u001b[K\n",
            "remote: Compressing objects: 100% (54/54), done.\u001b[K\n",
            "remote: Total 541 (delta 144), reused 105 (delta 101), pack-reused 386\u001b[K\n",
            "Receiving objects: 100% (541/541), 168.90 MiB | 46.83 MiB/s, done.\n",
            "Resolving deltas: 100% (196/196), done.\n"
          ]
        }
      ],
      "source": [
        "%cd /content/\n",
        "!git clone https://github.com/cszn/BSRGAN.git"
      ]
    },
    {
      "cell_type": "code",
      "execution_count": null,
      "metadata": {
        "colab": {
          "base_uri": "https://localhost:8080/"
        },
        "id": "zZtC2Vhn5aW8",
        "outputId": "bf944468-fc91-45db-e6e2-36d19a527651"
      },
      "outputs": [
        {
          "name": "stdout",
          "output_type": "stream",
          "text": [
            "/content/BSRGAN\n",
            "LogHandlers setup!\n",
            "22-09-20 18:53:40.485 :       Model Name : BSRGAN\n",
            "22-09-20 18:53:40.487 :           GPU ID : 0\n",
            "[3, 3, 64, 23, 32, 4]\n",
            "22-09-20 18:53:42.684 :       Input Path : testsets/RealSRSet\n",
            "22-09-20 18:53:42.684 :      Output Path : testsets/RealSRSet_results_x4\n",
            "22-09-20 18:53:42.684 : ---1 --> BSRGAN --> x4--> 0000006_00611_d_0000002.jpg\n",
            "22-09-20 18:53:44.913 : ---2 --> BSRGAN --> x4--> 0000063_06000_d_0000007.jpg\n",
            "22-09-20 18:53:45.233 : ---3 --> BSRGAN --> x4--> 9999938_00000_d_0000295.jpg\n",
            "22-09-20 18:53:45.961 : ---4 --> BSRGAN --> x4--> 9999938_00000_d_0000354.jpg\n",
            "22-09-20 18:53:46.661 : ---5 --> BSRGAN --> x4--> 9999938_00000_d_0000383.jpg\n",
            "22-09-20 18:53:47.367 : ---6 --> BSRGAN --> x4--> 9999952_00000_d_0000193.jpg\n",
            "22-09-20 18:53:48.069 : ---7 --> BSRGAN --> x4--> 9999952_00000_d_0000287.jpg\n",
            "22-09-20 18:53:48.776 : ---8 --> BSRGAN --> x4--> 9999952_00000_d_0000334.jpg\n",
            "22-09-20 18:53:49.485 : ---9 --> BSRGAN --> x4--> 9999952_00000_d_0000336.jpg\n",
            "22-09-20 18:53:50.209 : --10 --> BSRGAN --> x4--> 9999973_00000_d_0000151.jpg\n",
            "22-09-20 18:53:51.611 : --11 --> BSRGAN --> x4--> 9999979_00000_d_0000045.jpg\n",
            "22-09-20 18:53:52.564 : --12 --> BSRGAN --> x4--> 9999993_00000_d_0000018.jpg\n"
          ]
        }
      ],
      "source": [
        "%cd /content/BSRGAN/\n",
        "\n",
        "#!cp -r /content/gdrive/MyDrive/TFG/sreval/LR_x4/*.jpg /content/BSRGAN/testsets/RealSRSet\n",
        "#!python main_download_pretrained_models.py\n",
        "!python main_test_bsrgan.py"
      ]
    },
    {
      "cell_type": "code",
      "execution_count": null,
      "metadata": {
        "id": "VJ6kMMq3MEzf"
      },
      "outputs": [],
      "source": [
        "for filename in original_list:\n",
        "  file_name = get_filename_from_file(filename)[:-4]\n",
        "  old_name = '/content/gdrive/MyDrive/TFG/sreval/BSRGAN_x4/' + file_name + '_BSRGAN.png'\n",
        "  new_name = '/content/gdrive/MyDrive/TFG/sreval/BSRGAN_x4/' + file_name + '.jpg'\n",
        "  shutil.move(old_name, new_name)"
      ]
    },
    {
      "cell_type": "code",
      "execution_count": null,
      "metadata": {
        "id": "_ZqBzOsTLX6h"
      },
      "outputs": [],
      "source": [
        "file_name = '0000006_00611_d_0000002'\n",
        "old_name = '/content/BSRGAN/testsets/RealSRSet/RealSRSet_results_x2/' + file_name + '_BSRGANx2.jpg'\n",
        "new_name = '/content/gdrive/MyDrive/TFG/sreval/BSRGAN_x2/' + file_name + '.jpg'\n",
        "\n",
        "shutil.move(old_name, new_name)"
      ]
    },
    {
      "cell_type": "code",
      "execution_count": null,
      "metadata": {
        "id": "-Ym6WrFW80J2"
      },
      "outputs": [],
      "source": [
        "!rm -r /content/BSRGAN/testsets/RealSRSet/*.png"
      ]
    },
    {
      "cell_type": "markdown",
      "metadata": {
        "id": "oy41V-1M7cff"
      },
      "source": [
        "### Figures ###"
      ]
    },
    {
      "cell_type": "markdown",
      "metadata": {
        "id": "b1U5e_HvFQHR"
      },
      "source": [
        "#### Import results ####"
      ]
    },
    {
      "cell_type": "code",
      "execution_count": null,
      "metadata": {
        "id": "nPmtupfjFVqZ"
      },
      "outputs": [],
      "source": [
        "dict_gt = read_annotations_from_json(common.DETEVAL_DIR, 'visdrone_gt')\n",
        "dict_det_base = read_annotations_from_json(common.DETEVAL_DIR, 'test300_0_5_base')\n",
        "dict_det_sr = read_annotations_from_json(common.DETEVAL_DIR, 'test300_d4_0_5_sr_iou_025')\n",
        "dict_det_prop = read_annotations_from_json(common.DETEVAL_DIR, 'test300_d4_0_5_srfliplut_clahe50_iou_025')"
      ]
    },
    {
      "cell_type": "markdown",
      "metadata": {
        "id": "tQwKn4c1nveL"
      },
      "source": [
        "#### Bar plot average score per method ####"
      ]
    },
    {
      "cell_type": "code",
      "execution_count": null,
      "metadata": {
        "id": "RvDvbQnentYY"
      },
      "outputs": [],
      "source": [
        "avgscore_det_base_small = 0\n",
        "avgscore_det_base_medium = 0\n",
        "avgscore_det_base_large = 0\n",
        "\n",
        "avgscore_det_sr_small = 0\n",
        "avgscore_det_sr_medium = 0\n",
        "avgscore_det_sr_large = 0\n",
        "\n",
        "avgscore_det_prop_small = 0\n",
        "avgscore_det_prop_medium = 0\n",
        "avgscore_det_prop_large = 0\n",
        "\n",
        "# base\n",
        "for ann in dict_det_base['annotations']:\n",
        "  area = ann['area']\n",
        "  if area <= 32*32:\n",
        "    avgscore_det_base_small += float(ann['score'])\n",
        "  elif area <= 96*96:\n",
        "    avgscore_det_base_medium += float(ann['score'])\n",
        "  else:\n",
        "    avgscore_det_base_large += float(ann['score'])\n",
        "\n",
        "# sr\n",
        "for ann in dict_det_sr['annotations']:\n",
        "  area = ann['area']\n",
        "  if area <= 32*32:\n",
        "    avgscore_det_sr_small += float(ann['score'])\n",
        "  elif area <= 96*96:\n",
        "    avgscore_det_sr_medium += float(ann['score'])\n",
        "  else:\n",
        "    avgscore_det_sr_large += float(ann['score'])\n",
        "\n",
        "# prop\n",
        "for ann in dict_det_prop['annotations']:\n",
        "  area = ann['area']\n",
        "  if area <= 32*32:\n",
        "    avgscore_det_prop_small += float(ann['score'])\n",
        "  elif area <= 96*96:\n",
        "    avgscore_det_prop_medium += float(ann['score'])\n",
        "  else:\n",
        "    avgscore_det_prop_large += float(ann['score'])\n",
        "\n",
        "# get count of objects by size\n",
        "small_count_base, medium_count_base, large_count_base = get_det_count_by_size(dict_det_base['annotations'])\n",
        "small_count_sr, medium_count_sr, large_count_sr = get_det_count_by_size(dict_det_sr['annotations'])\n",
        "small_count_prop, medium_count_prop, large_count_prop = get_det_count_by_size(dict_det_prop['annotations'])\n",
        "\n",
        "avgscore_det_base_small /= small_count_base\n",
        "avgscore_det_base_medium /= medium_count_base\n",
        "avgscore_det_base_large /= large_count_base\n",
        "\n",
        "avgscore_det_sr_small /= small_count_sr\n",
        "avgscore_det_sr_medium /= medium_count_sr\n",
        "avgscore_det_sr_large /= large_count_sr\n",
        "\n",
        "avgscore_det_prop_small /= small_count_prop\n",
        "avgscore_det_prop_medium /= medium_count_prop\n",
        "avgscore_det_prop_large /= large_count_prop\n",
        "\n",
        "avgscore_det_base_small = round(avgscore_det_base_small, 4)\n",
        "avgscore_det_base_medium = round(avgscore_det_base_medium, 4)\n",
        "avgscore_det_base_large = round(avgscore_det_base_large, 4)\n",
        "\n",
        "avgscore_det_sr_small = round(avgscore_det_sr_small, 4)\n",
        "avgscore_det_sr_medium = round(avgscore_det_sr_medium, 4)\n",
        "avgscore_det_sr_large = round(avgscore_det_sr_large, 4)\n",
        "\n",
        "avgscore_det_prop_small = round(avgscore_det_prop_small, 4)\n",
        "avgscore_det_prop_medium = round(avgscore_det_prop_medium, 4)\n",
        "avgscore_det_prop_large = round(avgscore_det_prop_large, 4)"
      ]
    },
    {
      "cell_type": "code",
      "execution_count": null,
      "metadata": {
        "id": "fBEQFhxopXHP"
      },
      "outputs": [],
      "source": [
        "%matplotlib inline\n",
        "import matplotlib.pyplot as plt\n",
        "\n",
        "data = [[avgscore_det_base_small, avgscore_det_base_medium, avgscore_det_base_large],\n",
        "        [avgscore_det_sr_small, avgscore_det_sr_medium, avgscore_det_sr_large],\n",
        "        [avgscore_det_prop_small, avgscore_det_prop_medium, avgscore_det_prop_large]]\n",
        "\n",
        "small_labels = [small_count_base, small_count_sr, small_count_prop]\n",
        "medium_labels = [medium_count_base, medium_count_sr, medium_count_prop]\n",
        "large_labels = [large_count_base, large_count_sr, large_count_prop]\n",
        "\n",
        "x = np.arange(3)\n",
        "fig = plt.figure()\n",
        "ax = fig.add_axes([0,0,2,2])\n",
        "ax.bar(x + 0.00, data[0], color = 'crimson', width = 0.25)\n",
        "ax.bar(x + 0.25, data[1], color = 'gold', width = 0.25)\n",
        "ax.bar(x + 0.50, data[2], color = 'royalblue', width = 0.25)\n",
        "\n",
        "# show bar labels on top\n",
        "\n",
        "for i, v in enumerate(data[0]):\n",
        "    plt.text(x[i] - 0.07, v + 0.01, str(v), fontsize=12)\n",
        "\n",
        "for i, v in enumerate(data[1]):\n",
        "    plt.text(x[i] + 0.18, v + 0.01, str(v), fontsize=12)\n",
        "\n",
        "for i, v in enumerate(data[2]):\n",
        "    plt.text(x[i] + 0.42, v + 0.01, str(v), fontsize=12)\n",
        "\n",
        "#plt.tick_params(axis='x', which='both', bottom=False, labelbottom=False)\n",
        "plt.xticks(ticks=x + 0.25, labels = ['small', 'medium', 'large'], fontsize=16)\n",
        "plt.ylim([0, 0.6])\n",
        "ax.legend(labels=['BASE', 'PSR', 'PSRFLUT'], loc='upper left')\n",
        "ax.set_title('Average scores by object size and method', fontsize=24)\n",
        "#plt.xlabel('small medium large', fontsize=16)\n",
        "ax.set_ylabel('Average score', fontsize=16)\n",
        "plt.show()"
      ]
    },
    {
      "cell_type": "markdown",
      "metadata": {
        "id": "T68egmgJecY1"
      },
      "source": [
        "#### Scatter plot detection count by image ####"
      ]
    },
    {
      "cell_type": "code",
      "execution_count": null,
      "metadata": {
        "id": "TqeNAryHWIOD"
      },
      "outputs": [],
      "source": [
        "count_gt = np.zeros(common.TEST_MAX_SIZE).astype('int')\n",
        "\n",
        "for ann in dict_gt['annotations']:\n",
        "  count_gt[int(ann['image_id']) - 1] += 1\n",
        "\n",
        "count_det_base = np.zeros(common.TEST_MAX_SIZE).astype('int')\n",
        "\n",
        "for ann in dict_det_base['annotations']:\n",
        "  count_det_base[int(ann['image_id']) - 1] += 1\n",
        "\n",
        "count_det_sr = np.zeros(common.TEST_MAX_SIZE).astype('int')\n",
        "\n",
        "for ann in dict_det_sr['annotations']:\n",
        "  count_det_sr[int(ann['image_id']) - 1] += 1\n",
        "\n",
        "count_det_prop = np.zeros(common.TEST_MAX_SIZE).astype('int')\n",
        "\n",
        "for ann in dict_det_prop['annotations']:\n",
        "  count_det_prop[int(ann['image_id']) - 1] += 1\n"
      ]
    },
    {
      "cell_type": "code",
      "execution_count": null,
      "metadata": {
        "id": "H4O0reZeZxyW"
      },
      "outputs": [],
      "source": [
        "%matplotlib inline\n",
        "import matplotlib.pyplot as plt\n",
        "\n",
        "x = np.arange(common.TEST_MAX_SIZE)\n",
        "methods = np.array(['GT', 'BASE', 'SR', 'PROP'])\n",
        "\n",
        "plt.figure(figsize=(24,15))\n",
        "plt.scatter(x, count_gt, c='black', marker='o', label='GT')\n",
        "plt.scatter(x, count_det_prop, c='royalblue', marker='^', label='PSRFLUT')\n",
        "plt.scatter(x, count_det_sr, c='gold', marker='s', label='PSR')\n",
        "plt.scatter(x, count_det_base, c='crimson', marker='v', label='BASE')\n",
        "\n",
        "plt.title('Detection count by image and method (T=0.3)', fontsize=24)\n",
        "plt.xlabel('Images', fontsize=16)\n",
        "plt.ylabel('Detection count', fontsize=16)\n",
        "plt.legend(fontsize=12)\n",
        "plt.show()"
      ]
    },
    {
      "cell_type": "markdown",
      "metadata": {
        "id": "EoXK0BGZ7ZIK"
      },
      "source": [
        "#### Histogram of detections count by area size ####"
      ]
    },
    {
      "cell_type": "code",
      "execution_count": null,
      "metadata": {
        "id": "CoYPMhJ57gmB"
      },
      "outputs": [],
      "source": [
        "area_det_gt = []\n",
        "area_det_base = []\n",
        "area_det_sr = []\n",
        "area_det_prop = []\n",
        "\n",
        "for ann in dict_gt['annotations']:\n",
        "  area_det_gt += [int(ann['area']) - 1]\n",
        "\n",
        "for ann in dict_det_base['annotations']:\n",
        "  area_det_base += [int(ann['area']) - 1]\n",
        "\n",
        "for ann in dict_det_sr['annotations']:\n",
        "  area_det_sr += [int(ann['area']) - 1]\n",
        "\n",
        "for ann in dict_det_prop['annotations']:\n",
        "  area_det_prop += [int(ann['area']) - 1]"
      ]
    },
    {
      "cell_type": "code",
      "execution_count": null,
      "metadata": {
        "id": "H1KVEm-z8Qtk"
      },
      "outputs": [],
      "source": [
        "%matplotlib inline\n",
        "import matplotlib.pyplot as plt\n",
        "\n",
        "bin_width = 128\n",
        "n_bins = 100\n",
        "bins = [bin_width*x for x in np.arange(n_bins)]\n",
        "hist, _ = np.histogram(area_det_base, bins)\n",
        "\n",
        "plt.figure(figsize=(24,15))\n",
        "plt.xticks(np.arange(0, np.max(bins), step=n_bins*10))\n",
        "plt.hist(area_det_gt, bins, color='black')\n",
        "plt.hist(area_det_prop, bins, color='royalblue')\n",
        "plt.hist(area_det_sr, bins, color='gold')\n",
        "plt.hist(area_det_base, bins, color='crimson')\n",
        "plt.legend(labels=['GT', 'PSRFLUT', 'PSR','BASE'])\n",
        "plt.axvline(x=1024, color='dimgrey', linestyle='--', linewidth=2)\n",
        "plt.axvline(x=9216, color='dimgrey', linestyle='--', linewidth=2)\n",
        "plt.title('Histogram of detections by object area and method (T=0.5)', fontsize=24)\n",
        "plt.xlabel('Área del objeto', fontsize=16)\n",
        "plt.ylabel('Número de detecciones', fontsize=16)\n",
        "plt.show()"
      ]
    },
    {
      "cell_type": "markdown",
      "metadata": {
        "id": "HDzPnnjjDUzk"
      },
      "source": [
        "#### Count detections by object size group ####"
      ]
    },
    {
      "cell_type": "code",
      "execution_count": null,
      "metadata": {
        "id": "8_GB-1BTMFdJ"
      },
      "outputs": [],
      "source": [
        "small_gt, medium_gt, large_gt = get_det_count_by_size(dict_gt['annotations'])\n",
        "small_base, medium_base, large_base = get_det_count_by_size(dict_det_base['annotations'])\n",
        "small_sr, medium_sr, large_sr = get_det_count_by_size(dict_det_sr['annotations'])\n",
        "small_prop, medium_prop, large_prop = get_det_count_by_size(dict_det_prop['annotations'])\n",
        "\n",
        "print('GT:', small_gt, medium_gt, large_gt)\n",
        "print('BASE:', small_base, medium_base, large_base)\n",
        "print('SRx2:', small_sr, medium_sr, large_sr)\n",
        "print('PROP:', small_prop, medium_prop, large_prop)\n",
        "\n",
        "# ratio by method\n",
        "ratio_base = 100*round(small_base/small_gt, 4)\n",
        "print(\"ratio small base/gt: \", ratio_base)\n",
        "ratio_sr = 100*round(small_sr/small_gt, 4)\n",
        "print(\"ratio small sr/gt: \", ratio_sr)\n",
        "ratio_prop = 100*round(small_prop/small_gt, 4)\n",
        "print(\"ratio small prop/gt: \", ratio_prop)"
      ]
    },
    {
      "cell_type": "markdown",
      "metadata": {
        "id": "TGEQs-Mvrl_2"
      },
      "source": [
        "#### Image Tiling ####"
      ]
    },
    {
      "cell_type": "code",
      "execution_count": null,
      "metadata": {
        "id": "VOw76pr40LTX"
      },
      "outputs": [],
      "source": [
        "def get_image_by_filename(filename):\n",
        "  image_file = os.path.join(IMAGES_DIR, filename) + '.jpg'\n",
        "  return get_image_from_file(image_file, as_rgb=False, as_tensor=False, as_type='uint8')\n",
        "\n",
        "img = get_image_by_filename('9999979_00000_d_0000045')\n",
        "width, height = get_image_shape(img)\n",
        "\n",
        "x_tiles, y_tiles = get_image_tiling(width,height)\n",
        "tiles_dict = get_tiles(width, height, x_tiles, y_tiles)\n",
        "\n",
        "\"\"\"\n",
        "for tile in tiles_dict['tiles']:\n",
        "  img = cv.rectangle(img, (tile['ymin'],tile['xmin']), (tile['ymax'],tile['xmax']), (0, 255, 255), 2)\n",
        "\n",
        "tile = tiles_dict['tiles'][3]\n",
        "img = cv.rectangle(img, (tile['ymin'],tile['xmin']), (tile['ymax'],tile['xmax']), (0, 0, 255), 2)\n",
        "\n",
        "tile = tiles_dict['tiles'][3]\n",
        "crop_img = img[tile['xmin']:tile['xmax'],tile['ymin']:tile['ymax']]\n",
        "print(crop_img.shape)\n",
        "cv2_imshow(crop_img)\n",
        "\n",
        "path = BASE_DIR + '/figures/'\n",
        "file_name = 'figure3c.png'\n",
        "write_image_to_file(path, file_name, img)\n",
        "\"\"\""
      ]
    },
    {
      "cell_type": "markdown",
      "source": [
        "#### LUT images and plot ####"
      ],
      "metadata": {
        "id": "tubEa-FizcET"
      }
    },
    {
      "cell_type": "code",
      "source": [
        "#images with low brightness\n",
        "images_list = [\n",
        "    '/content/gdrive/MyDrive/TFG/VisDrone_2019-DET-test-dev/images/9999952_00000_d_0000085.jpg',\n",
        "    '/content/gdrive/MyDrive/TFG/VisDrone_2019-DET-test-dev/images/9999952_00000_d_0000164.jpg',\n",
        "    '/content/gdrive/MyDrive/TFG/VisDrone_2019-DET-test-dev/images/9999952_00000_d_0000283.jpg',\n",
        "    '/content/gdrive/MyDrive/TFG/VisDrone_2019-DET-test-dev/images/9999963_00000_d_0000073.jpg',\n",
        "    '/content/gdrive/MyDrive/TFG/VisDrone_2019-DET-test-dev/images/9999980_00000_d_0000004.jpg'\n",
        "]"
      ],
      "metadata": {
        "id": "Opbdb-C9v0hj"
      },
      "execution_count": null,
      "outputs": []
    },
    {
      "cell_type": "code",
      "source": [
        "def get_clahe_lut_from_images(image_file_in, image_file_out):\n",
        "  image_in = get_image_from_file(image_file_in, True, False, 'uint8').flatten()\n",
        "  image_out = get_image_from_file(image_file_out, True, False, 'uint8').flatten()\n",
        "\n",
        "  N = len(image_in)\n",
        "  map = {}\n",
        "\n",
        "  for i in range(N):\n",
        "    k = str(image_in[i])\n",
        "    v = str(image_out[i])\n",
        "    map[k] = v\n",
        "\n",
        "  x = np.arange(256)\n",
        "  y = []\n",
        "\n",
        "  list_keys = map.keys()\n",
        "  for k in x:\n",
        "    if str(k) in list_keys:\n",
        "      y += [int(map[str(k)])]\n",
        "    else:\n",
        "      y += [k]\n",
        "\n",
        "  return y"
      ],
      "metadata": {
        "id": "FxaCv_EnEaO4"
      },
      "execution_count": null,
      "outputs": []
    },
    {
      "cell_type": "code",
      "source": [
        "image_file = common.TEST_DIR + '9999952_00000_d_0000145.jpg'\n",
        "image_file_out = common.TEST_DIR + '9999952_00000_d_0000145_clahe.jpg'\n",
        "image = get_image_from_file(image_file, True, False, 'uint8')\n",
        "\n",
        "gamma_lut = get_gamma_lut(image)\n",
        "increase_lut = get_increase_lut(image)\n",
        "clahe_lut = get_clahe_lut_out_from_images(image_file, image_file_out)"
      ],
      "metadata": {
        "id": "ayOqFM-CzXjS"
      },
      "execution_count": null,
      "outputs": []
    },
    {
      "cell_type": "code",
      "source": [
        "fig = plt.figure()\n",
        "fig.set_figheight(20)\n",
        "fig.set_figwidth(20)\n",
        "\n",
        "image_file_out = common.TEST_DIR + '9999952_00000_d_0000145_increase.jpg'\n",
        "image_out = get_image_from_file(image_file_out, True, False, 'uint8')\n",
        "\n",
        "plt.axis('off')\n",
        "plt.title('Imagen aumentada con LUT', fontsize=18)\n",
        "plt.imshow(image_out)\n",
        "\n",
        "plt.show()"
      ],
      "metadata": {
        "id": "UeKg67XziUNp"
      },
      "execution_count": null,
      "outputs": []
    },
    {
      "cell_type": "code",
      "source": [
        "%matplotlib inline\n",
        "import matplotlib.pyplot as plt\n",
        "\n",
        "fig = plt.figure()\n",
        "fig.set_figheight(8)\n",
        "fig.set_figwidth(8)\n",
        "\n",
        "x = np.arange(256)\n",
        "plt.plot(x, clahe_lut, c='red', linewidth=2)\n",
        "plt.title('CLAHE LUT', fontsize=16)\n",
        "plt.xlabel('IN Values', fontsize=12)\n",
        "plt.ylabel('OUT Values', fontsize=12)\n",
        "plt.show()"
      ],
      "metadata": {
        "id": "kMicDLqxZc89"
      },
      "execution_count": null,
      "outputs": []
    }
  ],
  "metadata": {
    "accelerator": "GPU",
    "colab": {
      "collapsed_sections": [
        "Pju8P829lmcO",
        "72n6joX_bdja",
        "VcvHtPKKZq-U",
        "qZEEidLZwkCO",
        "svEjRrEaQ1dg",
        "gazCyD64becq",
        "RLSXXRU0bmzT",
        "S9Zkdv4wbsYP",
        "O2-9XWDynfM6",
        "rESU4mqD0VGx",
        "Yqw2o2Wnu4V9",
        "otBEJ4HVvT6m",
        "oRodLO0Mv88o",
        "DZKInXvOzXD1",
        "JcDjdBYz3cWC",
        "bb-k20n4yIy4",
        "Dzo5x8OaCNPf",
        "oy41V-1M7cff",
        "b1U5e_HvFQHR",
        "tQwKn4c1nveL",
        "T68egmgJecY1",
        "EoXK0BGZ7ZIK",
        "HDzPnnjjDUzk",
        "TGEQs-Mvrl_2",
        "tubEa-FizcET"
      ],
      "provenance": []
    },
    "gpuClass": "standard",
    "kernelspec": {
      "display_name": "Python 3",
      "name": "python3"
    },
    "language_info": {
      "name": "python"
    }
  },
  "nbformat": 4,
  "nbformat_minor": 0
}